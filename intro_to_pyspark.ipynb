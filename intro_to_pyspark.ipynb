{
 "cells": [
  {
   "cell_type": "code",
   "execution_count": 4,
   "metadata": {},
   "outputs": [],
   "source": [
    "from pyspark.sql import SparkSession\n",
    "import pyspark.sql.functions as F"
   ]
  },
  {
   "cell_type": "code",
   "execution_count": null,
   "metadata": {},
   "outputs": [
    {
     "name": "stdout",
     "output_type": "stream",
     "text": [
      "22/11/12 21:21:41 WARN Utils: Your hostname, cniongolo.local resolves to a loopback address: 127.0.0.1; using 192.168.1.182 instead (on interface en0)\n",
      "22/11/12 21:21:41 WARN Utils: Set SPARK_LOCAL_IP if you need to bind to another address\n"
     ]
    },
    {
     "name": "stderr",
     "output_type": "stream",
     "text": [
      "Setting default log level to \"WARN\".\n",
      "To adjust logging level use sc.setLogLevel(newLevel). For SparkR, use setLogLevel(newLevel).\n"
     ]
    },
    {
     "name": "stdout",
     "output_type": "stream",
     "text": [
      "22/11/12 21:21:42 WARN NativeCodeLoader: Unable to load native-hadoop library for your platform... using builtin-java classes where applicable\n"
     ]
    }
   ],
   "source": [
    "spark = SparkSession \\\n",
    "    .builder \\\n",
    "    .appName(\"Apprentissage de Pyspark par la pratique\") \\\n",
    "    .getOrCreate()"
   ]
  },
  {
   "cell_type": "code",
   "execution_count": 18,
   "metadata": {},
   "outputs": [
    {
     "data": {
      "text/plain": [
       "'3.3.1'"
      ]
     },
     "execution_count": 18,
     "metadata": {},
     "output_type": "execute_result"
    }
   ],
   "source": [
    "spark.version"
   ]
  },
  {
   "cell_type": "code",
   "execution_count": null,
   "metadata": {},
   "outputs": [],
   "source": [
    "conso_elec_gaz_annuelle = spark.read.option(\"delimiter\", \";\").csv(\"datasets/conso-elec-gaz-annuelle-par-secteur-dactivite-agregee-departement.csv\", header=True, inferSchema=True)"
   ]
  },
  {
   "cell_type": "code",
   "execution_count": 19,
   "metadata": {},
   "outputs": [
    {
     "data": {
      "text/plain": [
       "[Row(operateur='Enedis', annee=2011, filiere='Electricité', consoa=28496.17, pdla=280, nombre_maille_secretisees_a=0, indquala=0.943, consoi=1180989.65, pdli=1412, nombre_maille_secretisees_i=0, indquali=0.964, consot=737572.47, pdlt=3040, nombre_maille_secretisees_t=0, indqualt=0.932, consor=1977574.54, pdlr=313211, nombre_maille_secretisees_r=0, indqualr=0.303, consona=37947.56, pdlna=39, nombre_maille_secretisees_na=0, indqualna=0.829, code_departement='01', libelle_departement='Ain', code_region=84, libelle_region='Auvergne-Rhône-Alpes', id_filiere=100, geom=None, consototale=3962580.39),\n",
       " Row(operateur='Enedis', annee=2011, filiere='Electricité', consoa=5096.35, pdla=66, nombre_maille_secretisees_a=0, indquala=0.86, consoi=348627.93, pdli=893, nombre_maille_secretisees_i=0, indquali=0.903, consot=2104796.95, pdlt=8006, nombre_maille_secretisees_t=0, indqualt=0.923, consor=4113958.18, pdlr=823968, nombre_maille_secretisees_r=1, indqualr=0.354, consona=12681.93, pdlna=134, nombre_maille_secretisees_na=0, indqualna=0.562, code_departement='06', libelle_departement='Alpes-Maritimes', code_region=93, libelle_region=\"Provence-Alpes-Côte d'Azur\", id_filiere=100, geom=None, consototale=6585161.34),\n",
       " Row(operateur='Enedis', annee=2011, filiere='Electricité', consoa=5209.86, pdla=50, nombre_maille_secretisees_a=0, indquala=0.926, consoi=403223.45, pdli=550, nombre_maille_secretisees_i=0, indquali=0.948, consot=274104.16, pdlt=1515, nombre_maille_secretisees_t=0, indqualt=0.929, consor=1087970.74, pdlr=204849, nombre_maille_secretisees_r=0, indqualr=0.322, consona=500.77, pdlna=20, nombre_maille_secretisees_na=0, indqualna=0.729, code_departement='07', libelle_departement='Ardèche', code_region=84, libelle_region='Auvergne-Rhône-Alpes', id_filiere=100, geom=None, consototale=1771008.98),\n",
       " Row(operateur='Enedis', annee=2011, filiere='Electricité', consoa=2701.12, pdla=88, nombre_maille_secretisees_a=0, indquala=0.986, consoi=108932.81, pdli=183, nombre_maille_secretisees_i=0, indquali=0.926, consot=126218.43, pdlt=670, nombre_maille_secretisees_t=0, indqualt=0.892, consor=466667.83, pdlr=102216, nombre_maille_secretisees_r=0, indqualr=0.318, consona=1232.48, pdlna=67, nombre_maille_secretisees_na=0, indqualna=0.893, code_departement='09', libelle_departement='Ariège', code_region=76, libelle_region='Occitanie', id_filiere=100, geom=None, consototale=705752.6699999999),\n",
       " Row(operateur='Enedis', annee=2011, filiere='Electricité', consoa=2392.61, pdla=34, nombre_maille_secretisees_a=0, indquala=0.903, consoi=246744.23, pdli=488, nombre_maille_secretisees_i=0, indquali=0.937, consot=327305.5, pdlt=1388, nombre_maille_secretisees_t=0, indqualt=0.941, consor=826628.46, pdlr=161502, nombre_maille_secretisees_r=0, indqualr=0.327, consona=801.83, pdlna=16, nombre_maille_secretisees_na=0, indqualna=0.711, code_departement='19', libelle_departement='Corrèze', code_region=75, libelle_region='Nouvelle-Aquitaine', id_filiere=100, geom=None, consototale=1403872.63)]"
      ]
     },
     "execution_count": 19,
     "metadata": {},
     "output_type": "execute_result"
    }
   ],
   "source": [
    "conso_elec_gaz_annuelle.take(5)"
   ]
  },
  {
   "cell_type": "code",
   "execution_count": null,
   "metadata": {},
   "outputs": [],
   "source": []
  }
 ],
 "metadata": {
  "kernelspec": {
   "display_name": "Python 3.10.8 ('.venv': venv)",
   "language": "python",
   "name": "python3"
  },
  "language_info": {
   "codemirror_mode": {
    "name": "ipython",
    "version": 3
   },
   "file_extension": ".py",
   "mimetype": "text/x-python",
   "name": "python",
   "nbconvert_exporter": "python",
   "pygments_lexer": "ipython3",
   "version": "3.10.8"
  },
  "orig_nbformat": 4,
  "vscode": {
   "interpreter": {
    "hash": "9b8e0f61efda4b12c95f0862ffc362f888e08542735ca5743f84d68207740976"
   }
  }
 },
 "nbformat": 4,
 "nbformat_minor": 2
}
